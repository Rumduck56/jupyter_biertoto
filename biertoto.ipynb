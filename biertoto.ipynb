{
 "cells": [
  {
   "cell_type": "code",
   "execution_count": 1079,
   "id": "7ba0eaaf",
   "metadata": {},
   "outputs": [],
   "source": [
    "import numpy as np"
   ]
  },
  {
   "cell_type": "code",
   "execution_count": 1080,
   "id": "28563e44",
   "metadata": {},
   "outputs": [],
   "source": [
    "import pandas as pd"
   ]
  },
  {
   "cell_type": "code",
   "execution_count": 1081,
   "id": "ecfed8ec",
   "metadata": {},
   "outputs": [],
   "source": [
    "df = pd.read_excel(\"Biertoto.xlsx\")"
   ]
  },
  {
   "cell_type": "code",
   "execution_count": 1082,
   "id": "2e6aa256",
   "metadata": {},
   "outputs": [],
   "source": [
    "df = df.dropna(subset=['Heim']).copy()"
   ]
  },
  {
   "cell_type": "code",
   "execution_count": 1083,
   "id": "b3acc30f",
   "metadata": {},
   "outputs": [],
   "source": [
    "new_df = df.copy()\n"
   ]
  },
  {
   "cell_type": "code",
   "execution_count": 1084,
   "id": "74b05460",
   "metadata": {},
   "outputs": [],
   "source": [
    "tordiff = lambda row: abs(row.Htore - row.Gtore)"
   ]
  },
  {
   "cell_type": "code",
   "execution_count": 1085,
   "id": "0d258c61",
   "metadata": {},
   "outputs": [],
   "source": [
    "tordiff_Uwe = lambda row: abs(row.UHT - row.UGT)"
   ]
  },
  {
   "cell_type": "code",
   "execution_count": 1086,
   "id": "d991aac3",
   "metadata": {},
   "outputs": [],
   "source": [
    "tordiff_Schadix = lambda row: abs(row.SHT - row.SGT)"
   ]
  },
  {
   "cell_type": "code",
   "execution_count": 1087,
   "id": "986be106",
   "metadata": {},
   "outputs": [],
   "source": [
    "def get_year(row)->int:\n",
    "    \"\"\"add 19 to string with split on / in case of 9x else add 20\"\"\"\n",
    "    saison = row['Saison']\n",
    "    first_year, second_year = saison.split('/')\n",
    "    first_year = first_year.strip()\n",
    "    if first_year.startswith('9'):\n",
    "        return int(\"19\"+first_year)\n",
    "    else:\n",
    "        return int(\"20\"+first_year)"
   ]
  },
  {
   "cell_type": "code",
   "execution_count": 1088,
   "id": "7647f238",
   "metadata": {},
   "outputs": [],
   "source": [
    "col9 = new_df.apply(get_year, axis=1) # get column data with an index\n",
    "new_df = new_df.assign(Jahr=col9.values) # assign values to column 'Schadix_Tendenz'"
   ]
  },
  {
   "cell_type": "code",
   "execution_count": 1089,
   "id": "8c007c3a",
   "metadata": {},
   "outputs": [],
   "source": [
    "#new_df['year'] = new_df.apply(get_year, axis=1)"
   ]
  },
  {
   "cell_type": "code",
   "execution_count": 1090,
   "id": "a334945f",
   "metadata": {},
   "outputs": [],
   "source": [
    "def home_draw_away_generic(Htore,Gtore)->str:\n",
    "    \"\"\"\n",
    "    A = away team won\n",
    "    H = home team won\n",
    "    D = draw\n",
    "    \"\"\"\n",
    "    diff = Htore - Gtore\n",
    "    if pd.isnull(Htore) or pd.isnull(Gtore):\n",
    "        return np.nan\n",
    "    if diff < 0:\n",
    "        return 2\n",
    "    elif diff > 0:\n",
    "        return 1\n",
    "    else:\n",
    "        return 0"
   ]
  },
  {
   "cell_type": "code",
   "execution_count": 1091,
   "id": "ea83d35f",
   "metadata": {},
   "outputs": [],
   "source": [
    "def home_draw_away(row):\n",
    "    return home_draw_away_generic(row['Htore'], row['Gtore'])"
   ]
  },
  {
   "cell_type": "code",
   "execution_count": 1092,
   "id": "9d624c76",
   "metadata": {},
   "outputs": [],
   "source": [
    "def home_draw_away_uwe(row):\n",
    "    return home_draw_away_generic(row['UHT'], row['UGT'])"
   ]
  },
  {
   "cell_type": "code",
   "execution_count": 1093,
   "id": "71eb7a66",
   "metadata": {},
   "outputs": [],
   "source": [
    "def home_draw_away_schadix(row):\n",
    "    return home_draw_away_generic(row['SHT'], row['SGT'])"
   ]
  },
  {
   "cell_type": "code",
   "execution_count": 1094,
   "id": "43a477c9",
   "metadata": {},
   "outputs": [],
   "source": [
    "col1 = new_df.apply(home_draw_away, axis=1) # get column data with an index\n",
    "new_df = new_df.assign(Tendenz=col1.values) # assign values to column 'c'"
   ]
  },
  {
   "cell_type": "code",
   "execution_count": 1095,
   "id": "d108f6df",
   "metadata": {},
   "outputs": [],
   "source": [
    "def Tend_td_vergleich(HT, GT, THT, TGT, Tendenz, Tipp_Tendenz, TD, Tipp_TD):\n",
    "    \n",
    "    Tendenz_diff = Tendenz - Tipp_Tendenz\n",
    "    \n",
    "    if pd.isnull(Tendenz) or pd.isnull(Tipp_Tendenz):\n",
    "        return np.nan\n",
    "    if Tendenz_diff == 0: # Tendenz stimmt\n",
    "        pkt = 1 \n",
    "    else:\n",
    "        return 0 # Tendenz stimmt nicht\n",
    "    \n",
    "     \n",
    "    TD_diff = TD - Tipp_TD\n",
    "    \n",
    "    if TD_diff == 0:  #Tordifferenz stimmt\n",
    "        pkt = 1\n",
    "    else:\n",
    "        return 1 #Tordifferenz stimmt nicht\n",
    "    \n",
    "    Heimtore_diff = HT - THT\n",
    "    Gasttore_diff = GT - TGT\n",
    "     \n",
    "    if Heimtore_diff !=0 or Gasttore_diff != 0: # Ergebnis nicht richtig, gibt aber nur 1 PKT trotz richtiger TD, weil Remis\n",
    "             if Tendenz == 0:\n",
    "                return 1\n",
    "             else: \n",
    "                return 2    # Ergebnis nicht richtig, gibt aber 2 PKT wegen richtiger TD und kein Remis\n",
    "    else:\n",
    "        return 3 # Tendenz + Ergebnis genau richtig"
   ]
  },
  {
   "cell_type": "code",
   "execution_count": 1096,
   "id": "cf43e75d",
   "metadata": {},
   "outputs": [],
   "source": [
    "def Tendenz_TD_vergleich_uwe(row):\n",
    "    return Tend_td_vergleich(row['Htore'], row['Gtore'],row['UHT'],row['UGT'], row['Tendenz'], row['Uwe_Tendenz'], row['TD'], row['TD_Uwe'])"
   ]
  },
  {
   "cell_type": "code",
   "execution_count": 1097,
   "id": "400c6659",
   "metadata": {},
   "outputs": [],
   "source": [
    "def Tendenz_TD_vergleich_schadix(row):\n",
    "    return Tend_td_vergleich(row['Htore'], row['Gtore'],row['SHT'],row['SGT'], row['Tendenz'], row['Schadix_Tendenz'], row['TD'], row['TD_Schadix'])"
   ]
  },
  {
   "cell_type": "code",
   "execution_count": 1098,
   "id": "776deb8f",
   "metadata": {},
   "outputs": [],
   "source": [
    "col2 = new_df.apply(tordiff, axis=1) # get column data with an index\n",
    "new_df = new_df.assign(TD=col2.values) # assign values to column 'TD'"
   ]
  },
  {
   "cell_type": "code",
   "execution_count": 1099,
   "id": "d5276d2c",
   "metadata": {},
   "outputs": [],
   "source": [
    "col3 = new_df.apply(tordiff_Uwe, axis=1) # get column data with an index\n",
    "new_df = new_df.assign(TD_Uwe=col3.values) # assign values to column 'TD'"
   ]
  },
  {
   "cell_type": "code",
   "execution_count": 1100,
   "id": "b637231d",
   "metadata": {},
   "outputs": [],
   "source": [
    "col4 = new_df.apply(tordiff_Schadix, axis=1) # get column data with an index\n",
    "new_df = new_df.assign(TD_Schadix=col4.values) # assign values to column 'TD'"
   ]
  },
  {
   "cell_type": "code",
   "execution_count": 1101,
   "id": "5d67d9da",
   "metadata": {},
   "outputs": [],
   "source": [
    "col5 = new_df.apply(home_draw_away_uwe, axis=1) # get column data with an index\n",
    "new_df = new_df.assign(Uwe_Tendenz=col5.values) # assign values to column 'Uwe_Tendenz'"
   ]
  },
  {
   "cell_type": "code",
   "execution_count": 1102,
   "id": "0807c211",
   "metadata": {},
   "outputs": [],
   "source": [
    "col6 = new_df.apply(home_draw_away_schadix, axis=1) # get column data with an index\n",
    "new_df = new_df.assign(Schadix_Tendenz=col6.values) # assign values to column 'Schadix_Tendenz'"
   ]
  },
  {
   "cell_type": "code",
   "execution_count": 1103,
   "id": "cfae3b6c",
   "metadata": {},
   "outputs": [],
   "source": [
    "col7 = new_df.apply(Tendenz_TD_vergleich_uwe, axis=1) # get column data with an index\n",
    "new_df = new_df.assign(Uwe_Tendenz_Pkt=col7.values) # assign values to column 'Uwe_Tendenz_Pkt'"
   ]
  },
  {
   "cell_type": "code",
   "execution_count": 1104,
   "id": "4b7ac49c",
   "metadata": {},
   "outputs": [],
   "source": [
    "col8 = new_df.apply(Tendenz_TD_vergleich_schadix, axis=1) # get column data with an index\n",
    "new_df = new_df.assign(Schadix_Tendenz_Pkt=col8.values) # assign values to column 'Schadix_Tendenz_Pkt'"
   ]
  },
  {
   "cell_type": "code",
   "execution_count": 1105,
   "id": "30587387",
   "metadata": {},
   "outputs": [],
   "source": [
    "df_points_sum = new_df.groupby('Jahr').sum(['Uwe_Tendenz_Pkt', 'Schadix_Tendenz_Pkt'])[['Uwe_Tendenz_Pkt', 'Schadix_Tendenz_Pkt']]"
   ]
  },
  {
   "cell_type": "code",
   "execution_count": 1106,
   "id": "1898266d",
   "metadata": {},
   "outputs": [
    {
     "data": {
      "text/html": [
       "<div>\n",
       "<style scoped>\n",
       "    .dataframe tbody tr th:only-of-type {\n",
       "        vertical-align: middle;\n",
       "    }\n",
       "\n",
       "    .dataframe tbody tr th {\n",
       "        vertical-align: top;\n",
       "    }\n",
       "\n",
       "    .dataframe thead th {\n",
       "        text-align: right;\n",
       "    }\n",
       "</style>\n",
       "<table border=\"1\" class=\"dataframe\">\n",
       "  <thead>\n",
       "    <tr style=\"text-align: right;\">\n",
       "      <th></th>\n",
       "      <th>Uwe_Tendenz_Pkt</th>\n",
       "      <th>Schadix_Tendenz_Pkt</th>\n",
       "    </tr>\n",
       "    <tr>\n",
       "      <th>Jahr</th>\n",
       "      <th></th>\n",
       "      <th></th>\n",
       "    </tr>\n",
       "  </thead>\n",
       "  <tbody>\n",
       "    <tr>\n",
       "      <th>1995</th>\n",
       "      <td>83.0</td>\n",
       "      <td>72.0</td>\n",
       "    </tr>\n",
       "    <tr>\n",
       "      <th>1996</th>\n",
       "      <td>221.0</td>\n",
       "      <td>205.0</td>\n",
       "    </tr>\n",
       "    <tr>\n",
       "      <th>1997</th>\n",
       "      <td>211.0</td>\n",
       "      <td>197.0</td>\n",
       "    </tr>\n",
       "    <tr>\n",
       "      <th>1998</th>\n",
       "      <td>235.0</td>\n",
       "      <td>196.0</td>\n",
       "    </tr>\n",
       "    <tr>\n",
       "      <th>1999</th>\n",
       "      <td>219.0</td>\n",
       "      <td>222.0</td>\n",
       "    </tr>\n",
       "    <tr>\n",
       "      <th>2000</th>\n",
       "      <td>216.0</td>\n",
       "      <td>177.0</td>\n",
       "    </tr>\n",
       "    <tr>\n",
       "      <th>2001</th>\n",
       "      <td>221.0</td>\n",
       "      <td>192.0</td>\n",
       "    </tr>\n",
       "    <tr>\n",
       "      <th>2002</th>\n",
       "      <td>215.0</td>\n",
       "      <td>187.0</td>\n",
       "    </tr>\n",
       "    <tr>\n",
       "      <th>2003</th>\n",
       "      <td>213.0</td>\n",
       "      <td>250.0</td>\n",
       "    </tr>\n",
       "    <tr>\n",
       "      <th>2004</th>\n",
       "      <td>231.0</td>\n",
       "      <td>199.0</td>\n",
       "    </tr>\n",
       "    <tr>\n",
       "      <th>2005</th>\n",
       "      <td>202.0</td>\n",
       "      <td>191.0</td>\n",
       "    </tr>\n",
       "    <tr>\n",
       "      <th>2006</th>\n",
       "      <td>152.0</td>\n",
       "      <td>207.0</td>\n",
       "    </tr>\n",
       "    <tr>\n",
       "      <th>2007</th>\n",
       "      <td>205.0</td>\n",
       "      <td>165.0</td>\n",
       "    </tr>\n",
       "    <tr>\n",
       "      <th>2008</th>\n",
       "      <td>189.0</td>\n",
       "      <td>226.0</td>\n",
       "    </tr>\n",
       "    <tr>\n",
       "      <th>2009</th>\n",
       "      <td>202.0</td>\n",
       "      <td>247.0</td>\n",
       "    </tr>\n",
       "    <tr>\n",
       "      <th>2010</th>\n",
       "      <td>209.0</td>\n",
       "      <td>202.0</td>\n",
       "    </tr>\n",
       "    <tr>\n",
       "      <th>2011</th>\n",
       "      <td>209.0</td>\n",
       "      <td>222.0</td>\n",
       "    </tr>\n",
       "    <tr>\n",
       "      <th>2012</th>\n",
       "      <td>236.0</td>\n",
       "      <td>222.0</td>\n",
       "    </tr>\n",
       "    <tr>\n",
       "      <th>2013</th>\n",
       "      <td>189.0</td>\n",
       "      <td>247.0</td>\n",
       "    </tr>\n",
       "    <tr>\n",
       "      <th>2014</th>\n",
       "      <td>201.0</td>\n",
       "      <td>215.0</td>\n",
       "    </tr>\n",
       "    <tr>\n",
       "      <th>2015</th>\n",
       "      <td>232.0</td>\n",
       "      <td>213.0</td>\n",
       "    </tr>\n",
       "    <tr>\n",
       "      <th>2016</th>\n",
       "      <td>244.0</td>\n",
       "      <td>230.0</td>\n",
       "    </tr>\n",
       "    <tr>\n",
       "      <th>2017</th>\n",
       "      <td>215.0</td>\n",
       "      <td>201.0</td>\n",
       "    </tr>\n",
       "    <tr>\n",
       "      <th>2018</th>\n",
       "      <td>223.0</td>\n",
       "      <td>232.0</td>\n",
       "    </tr>\n",
       "    <tr>\n",
       "      <th>2019</th>\n",
       "      <td>231.0</td>\n",
       "      <td>234.0</td>\n",
       "    </tr>\n",
       "    <tr>\n",
       "      <th>2020</th>\n",
       "      <td>227.0</td>\n",
       "      <td>222.0</td>\n",
       "    </tr>\n",
       "    <tr>\n",
       "      <th>2021</th>\n",
       "      <td>71.0</td>\n",
       "      <td>73.0</td>\n",
       "    </tr>\n",
       "  </tbody>\n",
       "</table>\n",
       "</div>"
      ],
      "text/plain": [
       "      Uwe_Tendenz_Pkt  Schadix_Tendenz_Pkt\n",
       "Jahr                                      \n",
       "1995             83.0                 72.0\n",
       "1996            221.0                205.0\n",
       "1997            211.0                197.0\n",
       "1998            235.0                196.0\n",
       "1999            219.0                222.0\n",
       "2000            216.0                177.0\n",
       "2001            221.0                192.0\n",
       "2002            215.0                187.0\n",
       "2003            213.0                250.0\n",
       "2004            231.0                199.0\n",
       "2005            202.0                191.0\n",
       "2006            152.0                207.0\n",
       "2007            205.0                165.0\n",
       "2008            189.0                226.0\n",
       "2009            202.0                247.0\n",
       "2010            209.0                202.0\n",
       "2011            209.0                222.0\n",
       "2012            236.0                222.0\n",
       "2013            189.0                247.0\n",
       "2014            201.0                215.0\n",
       "2015            232.0                213.0\n",
       "2016            244.0                230.0\n",
       "2017            215.0                201.0\n",
       "2018            223.0                232.0\n",
       "2019            231.0                234.0\n",
       "2020            227.0                222.0\n",
       "2021             71.0                 73.0"
      ]
     },
     "execution_count": 1106,
     "metadata": {},
     "output_type": "execute_result"
    }
   ],
   "source": [
    "df_points_sum"
   ]
  },
  {
   "cell_type": "code",
   "execution_count": null,
   "id": "fb518910",
   "metadata": {},
   "outputs": [],
   "source": []
  },
  {
   "cell_type": "code",
   "execution_count": null,
   "id": "42defaeb",
   "metadata": {},
   "outputs": [],
   "source": []
  },
  {
   "cell_type": "code",
   "execution_count": null,
   "id": "d75acbb7",
   "metadata": {},
   "outputs": [],
   "source": []
  }
 ],
 "metadata": {
  "kernelspec": {
   "display_name": "Python 3 (ipykernel)",
   "language": "python",
   "name": "python3"
  },
  "language_info": {
   "codemirror_mode": {
    "name": "ipython",
    "version": 3
   },
   "file_extension": ".py",
   "mimetype": "text/x-python",
   "name": "python",
   "nbconvert_exporter": "python",
   "pygments_lexer": "ipython3",
   "version": "3.9.7"
  }
 },
 "nbformat": 4,
 "nbformat_minor": 5
}
