{
 "cells": [
  {
   "cell_type": "code",
   "execution_count": 1047,
   "id": "7ba0eaaf",
   "metadata": {},
   "outputs": [],
   "source": [
    "import numpy as np"
   ]
  },
  {
   "cell_type": "code",
   "execution_count": 1048,
   "id": "28563e44",
   "metadata": {},
   "outputs": [],
   "source": [
    "import pandas as pd"
   ]
  },
  {
   "cell_type": "code",
   "execution_count": 1049,
   "id": "ecfed8ec",
   "metadata": {},
   "outputs": [],
   "source": [
    "df = pd.read_excel(\"Biertoto.xlsx\")"
   ]
  },
  {
   "cell_type": "code",
   "execution_count": 1050,
   "id": "2e6aa256",
   "metadata": {},
   "outputs": [],
   "source": [
    "df = df.dropna(subset=['Heim']).copy()"
   ]
  },
  {
   "cell_type": "code",
   "execution_count": 1051,
   "id": "b3acc30f",
   "metadata": {},
   "outputs": [],
   "source": [
    "new_df = df.copy()\n"
   ]
  },
  {
   "cell_type": "code",
   "execution_count": 1052,
   "id": "74b05460",
   "metadata": {},
   "outputs": [],
   "source": [
    "tordiff = lambda row: abs(row.Htore - row.Gtore)"
   ]
  },
  {
   "cell_type": "code",
   "execution_count": 1053,
   "id": "0d258c61",
   "metadata": {},
   "outputs": [],
   "source": [
    "tordiff_Uwe = lambda row: abs(row.UHT - row.UGT)"
   ]
  },
  {
   "cell_type": "code",
   "execution_count": 1054,
   "id": "d991aac3",
   "metadata": {},
   "outputs": [],
   "source": [
    "tordiff_Schadix = lambda row: abs(row.SHT - row.SGT)"
   ]
  },
  {
   "cell_type": "code",
   "execution_count": 1055,
   "id": "bd0c00da",
   "metadata": {},
   "outputs": [],
   "source": [
    "def get_year(row)->int:\n",
    "    \"\"\"add 19 to string with split on / in case of 9x else add 20\"\"\"\n",
    "    saison = row['Saison']\n",
    "    first_year, second_year = saison.split('/')\n",
    "    first_year = first_year.strip()\n",
    "    if first_year.startswith('9'):\n",
    "        return int(\"19\"+first_year)\n",
    "    else:\n",
    "        return int(\"20\"+first_year)"
   ]
  },
  {
   "cell_type": "code",
   "execution_count": 1056,
   "id": "cc10a534",
   "metadata": {},
   "outputs": [],
   "source": [
    "col9 = new_df.apply(get_year, axis=1) # get column data with an index\n",
    "new_df = new_df.assign(Jahr=col9.values) # assign values to column 'Schadix_Tendenz'"
   ]
  },
  {
   "cell_type": "code",
   "execution_count": 1057,
   "id": "80882e88",
   "metadata": {},
   "outputs": [],
   "source": [
    "#new_df['year'] = new_df.apply(get_year, axis=1)"
   ]
  },
  {
   "cell_type": "code",
   "execution_count": 1058,
   "id": "a334945f",
   "metadata": {},
   "outputs": [],
   "source": [
    "def home_draw_away_generic(Htore,Gtore)->str:\n",
    "    \"\"\"\n",
    "    A = away team won\n",
    "    H = home team won\n",
    "    D = draw\n",
    "    \"\"\"\n",
    "    diff = Htore - Gtore\n",
    "    if pd.isnull(Htore) or pd.isnull(Gtore):\n",
    "        return np.nan\n",
    "    if diff < 0:\n",
    "        return 2\n",
    "    elif diff > 0:\n",
    "        return 1\n",
    "    else:\n",
    "        return 0"
   ]
  },
  {
   "cell_type": "code",
   "execution_count": 1059,
   "id": "ea83d35f",
   "metadata": {},
   "outputs": [],
   "source": [
    "def home_draw_away(row):\n",
    "    return home_draw_away_generic(row['Htore'], row['Gtore'])"
   ]
  },
  {
   "cell_type": "code",
   "execution_count": 1060,
   "id": "9d624c76",
   "metadata": {},
   "outputs": [],
   "source": [
    "def home_draw_away_uwe(row):\n",
    "    return home_draw_away_generic(row['UHT'], row['UGT'])"
   ]
  },
  {
   "cell_type": "code",
   "execution_count": 1061,
   "id": "71eb7a66",
   "metadata": {},
   "outputs": [],
   "source": [
    "def home_draw_away_schadix(row):\n",
    "    return home_draw_away_generic(row['SHT'], row['SGT'])"
   ]
  },
  {
   "cell_type": "code",
   "execution_count": 1062,
   "id": "43a477c9",
   "metadata": {},
   "outputs": [],
   "source": [
    "col1 = new_df.apply(home_draw_away, axis=1) # get column data with an index\n",
    "new_df = new_df.assign(Tendenz=col1.values) # assign values to column 'c'"
   ]
  },
  {
   "cell_type": "code",
   "execution_count": 1063,
   "id": "776deb8f",
   "metadata": {},
   "outputs": [],
   "source": [
    "col2 = new_df.apply(tordiff, axis=1) # get column data with an index\n",
    "new_df = new_df.assign(TD=col2.values) # assign values to column 'TD'"
   ]
  },
  {
   "cell_type": "code",
   "execution_count": 1064,
   "id": "d5276d2c",
   "metadata": {},
   "outputs": [],
   "source": [
    "col3 = new_df.apply(tordiff_Uwe, axis=1) # get column data with an index\n",
    "new_df = new_df.assign(TD_Uwe=col3.values) # assign values to column 'TD'"
   ]
  },
  {
   "cell_type": "code",
   "execution_count": 1065,
   "id": "b637231d",
   "metadata": {},
   "outputs": [],
   "source": [
    "col4 = new_df.apply(tordiff_Schadix, axis=1) # get column data with an index\n",
    "new_df = new_df.assign(TD_Schadix=col4.values) # assign values to column 'TD'"
   ]
  },
  {
   "cell_type": "code",
   "execution_count": 1066,
   "id": "5d67d9da",
   "metadata": {},
   "outputs": [],
   "source": [
    "col5 = new_df.apply(home_draw_away_uwe, axis=1) # get column data with an index\n",
    "new_df = new_df.assign(Uwe_Tendenz=col5.values) # assign values to column 'Uwe_Tendenz'"
   ]
  },
  {
   "cell_type": "code",
   "execution_count": 1067,
   "id": "0807c211",
   "metadata": {},
   "outputs": [],
   "source": [
    "col6 = new_df.apply(home_draw_away_schadix, axis=1) # get column data with an index\n",
    "new_df = new_df.assign(Schadix_Tendenz=col6.values) # assign values to column 'Schadix_Tendenz'"
   ]
  },
  {
   "cell_type": "code",
   "execution_count": 1068,
   "id": "ca701842",
   "metadata": {},
   "outputs": [],
   "source": [
    "#def uwe_tend_vergleich(Tendenz, Uwe_Tendenz):\n",
    "    \n",
    "    #diff1 = Tendenz - Uwe_Tendenz\n",
    "    #if pd.isnull(Tendenz) or pd.isnull(Uwe_Tendenz):\n",
    "       # return np.nan\n",
    "    #if diff1 == 0:\n",
    "        #return 1\n",
    "    #else:\n",
    "        #return 0"
   ]
  },
  {
   "cell_type": "code",
   "execution_count": 1069,
   "id": "9a915c38",
   "metadata": {},
   "outputs": [],
   "source": [
    "#def Tendenz_vergleich(row):\n",
    "    #return uwe_tend_vergleich(row['Tendenz'], row['Uwe_Tendenz'])"
   ]
  },
  {
   "cell_type": "code",
   "execution_count": 1070,
   "id": "f0c7f177",
   "metadata": {},
   "outputs": [],
   "source": [
    "def Tend_td_vergleich(HT, GT, THT, TGT, Tendenz, Tipp_Tendenz, TD, Tipp_TD):\n",
    "    \n",
    "    Tendenz_diff = Tendenz - Tipp_Tendenz\n",
    "    \n",
    "    if pd.isnull(Tendenz) or pd.isnull(Tipp_Tendenz):\n",
    "        return np.nan\n",
    "    if Tendenz_diff == 0: # Tendenz stimmt\n",
    "        pkt = 1 \n",
    "    else:\n",
    "        return 0 # Tendenz stimmt nicht\n",
    "    \n",
    "     \n",
    "    TD_diff = TD - Tipp_TD\n",
    "    \n",
    "    if TD_diff == 0:  #Tordifferenz stimmt\n",
    "        pkt = 1\n",
    "    else:\n",
    "        return 1 #Tordifferenz stimmt nicht\n",
    "    \n",
    "    Heimtore_diff = HT - THT\n",
    "    Gasttore_diff = GT - TGT\n",
    "     \n",
    "    if Heimtore_diff !=0 or Gasttore_diff != 0: # Ergebnis nicht richtig, gibt aber nur 1 PKT trotz richtiger TD, weil Remis\n",
    "             if Tendenz == 0:\n",
    "                return 1\n",
    "             else: \n",
    "                return 2    # Ergebnis nicht richtig, gibt aber 2 PKT wegen richtiger TD und kein Remis\n",
    "    else:\n",
    "        return 3 # Tendenz + Ergebnis genau richtig\n",
    "    \n"
   ]
  },
  {
   "cell_type": "code",
   "execution_count": 1071,
   "id": "9558f212",
   "metadata": {},
   "outputs": [],
   "source": [
    "def Tendenz_TD_vergleich_uwe(row):\n",
    "    return Tend_td_vergleich(row['Htore'], row['Gtore'],row['UHT'],row['UGT'], row['Tendenz'], row['Uwe_Tendenz'], row['TD'], row['TD_Uwe'])"
   ]
  },
  {
   "cell_type": "code",
   "execution_count": 1072,
   "id": "77eb62b4",
   "metadata": {},
   "outputs": [],
   "source": [
    "def Tendenz_TD_vergleich_schadix(row):\n",
    "    return Tend_td_vergleich(row['Htore'], row['Gtore'],row['SHT'],row['SGT'], row['Tendenz'], row['Schadix_Tendenz'], row['TD'], row['TD_Schadix'])"
   ]
  },
  {
   "cell_type": "code",
   "execution_count": 1073,
   "id": "bf6b7791",
   "metadata": {},
   "outputs": [],
   "source": [
    "col7 = new_df.apply(Tendenz_TD_vergleich_uwe, axis=1) # get column data with an index\n",
    "new_df = new_df.assign(Uwe_Tendenz_Pkt=col7.values) # assign values to column 'Uwe_Tendenz_Pkt'"
   ]
  },
  {
   "cell_type": "code",
   "execution_count": 1074,
   "id": "3bae6508",
   "metadata": {},
   "outputs": [],
   "source": [
    "col8 = new_df.apply(Tendenz_TD_vergleich_schadix, axis=1) # get column data with an index\n",
    "new_df = new_df.assign(Schadix_Tendenz_Pkt=col8.values) # assign values to column 'Uwe_Tendenz_Pkt'"
   ]
  },
  {
   "cell_type": "code",
   "execution_count": 1075,
   "id": "4a265aaa",
   "metadata": {},
   "outputs": [],
   "source": [
    "#new_df['Uwe_Pkt'] = np.where(new_df['Tendenz']==['Uwe_Tendenz'], 1, 0)"
   ]
  },
  {
   "cell_type": "code",
   "execution_count": 1076,
   "id": "1f24e09d",
   "metadata": {},
   "outputs": [],
   "source": [
    "new_df.to_excel(\"neu_df.xlsx\")"
   ]
  },
  {
   "cell_type": "code",
   "execution_count": 1077,
   "id": "d9ccbf12",
   "metadata": {},
   "outputs": [],
   "source": [
    "df_points_sum = new_df.groupby('Jahr').sum(['Uwe_Tendenz_Pkt', 'Schadix_Tendenz_Pkt'])[['Uwe_Tendenz_Pkt', 'Schadix_Tendenz_Pkt']]"
   ]
  },
  {
   "cell_type": "code",
   "execution_count": 1078,
   "id": "a70e5573",
   "metadata": {},
   "outputs": [
    {
     "data": {
      "text/html": [
       "<div>\n",
       "<style scoped>\n",
       "    .dataframe tbody tr th:only-of-type {\n",
       "        vertical-align: middle;\n",
       "    }\n",
       "\n",
       "    .dataframe tbody tr th {\n",
       "        vertical-align: top;\n",
       "    }\n",
       "\n",
       "    .dataframe thead th {\n",
       "        text-align: right;\n",
       "    }\n",
       "</style>\n",
       "<table border=\"1\" class=\"dataframe\">\n",
       "  <thead>\n",
       "    <tr style=\"text-align: right;\">\n",
       "      <th></th>\n",
       "      <th>Uwe_Tendenz_Pkt</th>\n",
       "      <th>Schadix_Tendenz_Pkt</th>\n",
       "    </tr>\n",
       "    <tr>\n",
       "      <th>Jahr</th>\n",
       "      <th></th>\n",
       "      <th></th>\n",
       "    </tr>\n",
       "  </thead>\n",
       "  <tbody>\n",
       "    <tr>\n",
       "      <th>1995</th>\n",
       "      <td>83.0</td>\n",
       "      <td>72.0</td>\n",
       "    </tr>\n",
       "    <tr>\n",
       "      <th>1996</th>\n",
       "      <td>221.0</td>\n",
       "      <td>205.0</td>\n",
       "    </tr>\n",
       "    <tr>\n",
       "      <th>1997</th>\n",
       "      <td>211.0</td>\n",
       "      <td>197.0</td>\n",
       "    </tr>\n",
       "    <tr>\n",
       "      <th>1998</th>\n",
       "      <td>235.0</td>\n",
       "      <td>196.0</td>\n",
       "    </tr>\n",
       "    <tr>\n",
       "      <th>1999</th>\n",
       "      <td>219.0</td>\n",
       "      <td>222.0</td>\n",
       "    </tr>\n",
       "    <tr>\n",
       "      <th>2000</th>\n",
       "      <td>216.0</td>\n",
       "      <td>177.0</td>\n",
       "    </tr>\n",
       "    <tr>\n",
       "      <th>2001</th>\n",
       "      <td>221.0</td>\n",
       "      <td>192.0</td>\n",
       "    </tr>\n",
       "    <tr>\n",
       "      <th>2002</th>\n",
       "      <td>215.0</td>\n",
       "      <td>187.0</td>\n",
       "    </tr>\n",
       "    <tr>\n",
       "      <th>2003</th>\n",
       "      <td>213.0</td>\n",
       "      <td>250.0</td>\n",
       "    </tr>\n",
       "    <tr>\n",
       "      <th>2004</th>\n",
       "      <td>231.0</td>\n",
       "      <td>199.0</td>\n",
       "    </tr>\n",
       "    <tr>\n",
       "      <th>2005</th>\n",
       "      <td>202.0</td>\n",
       "      <td>191.0</td>\n",
       "    </tr>\n",
       "    <tr>\n",
       "      <th>2006</th>\n",
       "      <td>152.0</td>\n",
       "      <td>207.0</td>\n",
       "    </tr>\n",
       "    <tr>\n",
       "      <th>2007</th>\n",
       "      <td>205.0</td>\n",
       "      <td>165.0</td>\n",
       "    </tr>\n",
       "    <tr>\n",
       "      <th>2008</th>\n",
       "      <td>189.0</td>\n",
       "      <td>226.0</td>\n",
       "    </tr>\n",
       "    <tr>\n",
       "      <th>2009</th>\n",
       "      <td>202.0</td>\n",
       "      <td>247.0</td>\n",
       "    </tr>\n",
       "    <tr>\n",
       "      <th>2010</th>\n",
       "      <td>209.0</td>\n",
       "      <td>202.0</td>\n",
       "    </tr>\n",
       "    <tr>\n",
       "      <th>2011</th>\n",
       "      <td>209.0</td>\n",
       "      <td>222.0</td>\n",
       "    </tr>\n",
       "    <tr>\n",
       "      <th>2012</th>\n",
       "      <td>236.0</td>\n",
       "      <td>222.0</td>\n",
       "    </tr>\n",
       "    <tr>\n",
       "      <th>2013</th>\n",
       "      <td>189.0</td>\n",
       "      <td>247.0</td>\n",
       "    </tr>\n",
       "    <tr>\n",
       "      <th>2014</th>\n",
       "      <td>201.0</td>\n",
       "      <td>215.0</td>\n",
       "    </tr>\n",
       "    <tr>\n",
       "      <th>2015</th>\n",
       "      <td>232.0</td>\n",
       "      <td>213.0</td>\n",
       "    </tr>\n",
       "    <tr>\n",
       "      <th>2016</th>\n",
       "      <td>244.0</td>\n",
       "      <td>230.0</td>\n",
       "    </tr>\n",
       "    <tr>\n",
       "      <th>2017</th>\n",
       "      <td>215.0</td>\n",
       "      <td>201.0</td>\n",
       "    </tr>\n",
       "    <tr>\n",
       "      <th>2018</th>\n",
       "      <td>223.0</td>\n",
       "      <td>232.0</td>\n",
       "    </tr>\n",
       "    <tr>\n",
       "      <th>2019</th>\n",
       "      <td>231.0</td>\n",
       "      <td>234.0</td>\n",
       "    </tr>\n",
       "    <tr>\n",
       "      <th>2020</th>\n",
       "      <td>227.0</td>\n",
       "      <td>222.0</td>\n",
       "    </tr>\n",
       "    <tr>\n",
       "      <th>2021</th>\n",
       "      <td>71.0</td>\n",
       "      <td>73.0</td>\n",
       "    </tr>\n",
       "  </tbody>\n",
       "</table>\n",
       "</div>"
      ],
      "text/plain": [
       "      Uwe_Tendenz_Pkt  Schadix_Tendenz_Pkt\n",
       "Jahr                                      \n",
       "1995             83.0                 72.0\n",
       "1996            221.0                205.0\n",
       "1997            211.0                197.0\n",
       "1998            235.0                196.0\n",
       "1999            219.0                222.0\n",
       "2000            216.0                177.0\n",
       "2001            221.0                192.0\n",
       "2002            215.0                187.0\n",
       "2003            213.0                250.0\n",
       "2004            231.0                199.0\n",
       "2005            202.0                191.0\n",
       "2006            152.0                207.0\n",
       "2007            205.0                165.0\n",
       "2008            189.0                226.0\n",
       "2009            202.0                247.0\n",
       "2010            209.0                202.0\n",
       "2011            209.0                222.0\n",
       "2012            236.0                222.0\n",
       "2013            189.0                247.0\n",
       "2014            201.0                215.0\n",
       "2015            232.0                213.0\n",
       "2016            244.0                230.0\n",
       "2017            215.0                201.0\n",
       "2018            223.0                232.0\n",
       "2019            231.0                234.0\n",
       "2020            227.0                222.0\n",
       "2021             71.0                 73.0"
      ]
     },
     "execution_count": 1078,
     "metadata": {},
     "output_type": "execute_result"
    }
   ],
   "source": [
    "df_points_sum"
   ]
  },
  {
   "cell_type": "code",
   "execution_count": null,
   "id": "0bf80cb5",
   "metadata": {},
   "outputs": [],
   "source": []
  },
  {
   "cell_type": "code",
   "execution_count": null,
   "id": "b5e30bb3",
   "metadata": {},
   "outputs": [],
   "source": []
  },
  {
   "cell_type": "code",
   "execution_count": null,
   "id": "1c9b5f81",
   "metadata": {},
   "outputs": [],
   "source": []
  }
 ],
 "metadata": {
  "kernelspec": {
   "display_name": "Python 3 (ipykernel)",
   "language": "python",
   "name": "python3"
  },
  "language_info": {
   "codemirror_mode": {
    "name": "ipython",
    "version": 3
   },
   "file_extension": ".py",
   "mimetype": "text/x-python",
   "name": "python",
   "nbconvert_exporter": "python",
   "pygments_lexer": "ipython3",
   "version": "3.9.7"
  }
 },
 "nbformat": 4,
 "nbformat_minor": 5
}
